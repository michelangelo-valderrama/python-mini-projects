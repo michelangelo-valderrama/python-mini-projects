{
 "cells": [
  {
   "attachments": {},
   "cell_type": "markdown",
   "metadata": {},
   "source": [
    "# La sucesión de Fibonacci\n",
    "\n"
   ]
  },
  {
   "cell_type": "code",
   "execution_count": 2,
   "metadata": {},
   "outputs": [
    {
     "data": {
      "text/html": [
       "<video src=\"Fibonacci.mp4\" controls  >\n",
       "      Your browser does not support the <code>video</code> element.\n",
       "    </video>"
      ],
      "text/plain": [
       "<IPython.core.display.Video object>"
      ]
     },
     "execution_count": 2,
     "metadata": {},
     "output_type": "execute_result"
    }
   ],
   "source": [
    "from IPython.display import Video\n",
    "\n",
    "Video(\"Fibonacci.mp4\") "
   ]
  },
  {
   "cell_type": "code",
   "execution_count": 5,
   "metadata": {},
   "outputs": [],
   "source": [
    "\n",
    "def main():\n",
    "    # Se recibe la cantidad de números de la sucesión\n",
    "    t = int(input(\"¿Cuántos números quiere de la sucesión? \"))\n",
    "\n",
    "    # Se guarda la sucesión en fib\n",
    "    fib = Fibonacci(t)\n",
    "\n",
    "    print(*[o for o in fib])  # Se imprime en pantalla\n",
    "\n",
    "    # for i in range(t):\n",
    "    #     print(f\"Término {i+1}: {fib[i]}\")\n",
    "    \n",
    "    print(\"Fin de la sucesión\")"
   ]
  },
  {
   "attachments": {},
   "cell_type": "markdown",
   "metadata": {},
   "source": [
    "Dado que $F_n = F_{n-1} + F_{n-2}$, se crea una lista `F = [0, 1]` en el que el elemento número `n` será `F[n] = F[n-1] + F[n-2]`."
   ]
  },
  {
   "cell_type": "code",
   "execution_count": 9,
   "metadata": {},
   "outputs": [],
   "source": [
    "def Fibonacci(t):\n",
    "    F = [0, 1]  # F es la lista donde se crea la sucesión\n",
    "    #  F[0]=0, F[1]=1, ... F[n] = F[n-1] + F[n-2]\n",
    "\n",
    "    # Se crea la sucesión\n",
    "    for i in range(2,t): \n",
    "        F.append(F[i-1] + F[i-2])\n",
    "    return F"
   ]
  }
 ],
 "metadata": {
  "kernelspec": {
   "display_name": "Python 3 (ipykernel)",
   "language": "python",
   "name": "python3"
  },
  "language_info": {
   "codemirror_mode": {
    "name": "ipython",
    "version": 3
   },
   "file_extension": ".py",
   "mimetype": "text/x-python",
   "name": "python",
   "nbconvert_exporter": "python",
   "pygments_lexer": "ipython3",
   "version": "3.10.6 (main, Nov 14 2022, 16:10:14) [GCC 11.3.0]"
  },
  "orig_nbformat": 4,
  "vscode": {
   "interpreter": {
    "hash": "31f2aee4e71d21fbe5cf8b01ff0e069b9275f58929596ceb00d14d90e3e16cd6"
   }
  }
 },
 "nbformat": 4,
 "nbformat_minor": 2
}
