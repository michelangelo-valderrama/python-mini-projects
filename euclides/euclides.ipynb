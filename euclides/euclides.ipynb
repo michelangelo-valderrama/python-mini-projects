{
 "cells": [
  {
   "attachments": {},
   "cell_type": "markdown",
   "metadata": {},
   "source": [
    "# El algoritmo de Euclides"
   ]
  },
  {
   "attachments": {},
   "cell_type": "markdown",
   "metadata": {},
   "source": [
    "El **Algoritmo de Euclides** es un método o procedimiento que permite sistematizar la búsqueda *del Máximo Común Divisor* de dos números naturales\n",
    "\n",
    "Teniendo un número $A$ y un número $B$, si $A\\ge B$, se sigue lo siguiente:\n",
    "\n",
    "1. Se obtiene el resto $R$ de $A/B$;  $Re(A/B) = R$\n",
    "2. Se obtiene el resto $R_1$ de $B/R$; $Re(B/R) = R_1$\n",
    "3. Se obtiene el resto $R_2$ de $R/R_1$; $Re(R/R_1) = R_2$\n",
    "4. Así sucesivamente hasta que $Re(R_{n-2}/R_{n-1}) = R_n = 0$, donde $R_{n-1}$ será el máximo común divisor de $A$ y $B$."
   ]
  },
  {
   "cell_type": "code",
   "execution_count": 1,
   "metadata": {},
   "outputs": [],
   "source": [
    "def main():\n",
    "    # Se reciben los números\n",
    "    a = int(input(\"Primer número: \"))\n",
    "    b = int(input(\"Segundo número: \"))\n",
    "\n",
    "    # Se imprime en pantalla la solución\n",
    "    print(f\"El mcd de {a} y {b} es: {mcd(a,b)}\")"
   ]
  },
  {
   "attachments": {},
   "cell_type": "markdown",
   "metadata": {},
   "source": [
    "Una vez se confirma que `n` es mayor que `m`, se obtiene su resto, `r = n % m`, si el resto no es cero, `if r != 0`, entonces se asigna al nuevo número mayor `n` el anterior número menor, `n = m`, y se asigna al nuevo número menor `m` el anterior resto, `m = r`, hasta que `r = 0`, entonces se retorna el número menor, `return m`."
   ]
  },
  {
   "cell_type": "code",
   "execution_count": null,
   "metadata": {},
   "outputs": [],
   "source": [
    "def mcd(a, b):\n",
    "    n,m = 0,0  # n es el número mayor y m el menor\n",
    "    r,i = 0,1  # r es el resto de una división e i es un contador\n",
    "\n",
    "    # Obtener el mayor de a y b\n",
    "    if a > b:\n",
    "        n,m = a,b\n",
    "    else:\n",
    "        n,m = b,a\n",
    "\n",
    "    # Se aplica el algoritmo de Euclides para obtener mcm\n",
    "    while True:\n",
    "        r = n % m  # resto del número mayor entre el número menor\n",
    "        \n",
    "        print(f\"{i}. {n} dividido entre {m} es {n//m} y tiene de resto {r}\")\n",
    "        i+=1\n",
    "        \n",
    "        # Si el resto es cero, se ha acabado el algoritmo, sino...\n",
    "        if r != 0:\n",
    "            n = m  # Se asigna el anterior número menor como el nuevo número mayor \n",
    "            m = r  # Se asigna el anterior resto como el nuevo número número menor\n",
    "        else:\n",
    "            break \n",
    "\n",
    "    # Si el resto entre el número mayor y el número menor  \n",
    "    # es cero, entonces el número menor es el mcd de ambos\n",
    "    # números\n",
    "    return(m)"
   ]
  }
 ],
 "metadata": {
  "kernelspec": {
   "display_name": "Python 3",
   "language": "python",
   "name": "python3"
  },
  "language_info": {
   "codemirror_mode": {
    "name": "ipython",
    "version": 3
   },
   "file_extension": ".py",
   "mimetype": "text/x-python",
   "name": "python",
   "nbconvert_exporter": "python",
   "pygments_lexer": "ipython3",
   "version": "3.10.6"
  },
  "orig_nbformat": 4,
  "vscode": {
   "interpreter": {
    "hash": "916dbcbb3f70747c44a77c7bcd40155683ae19c65e1c03b4aa3499c5328201f1"
   }
  }
 },
 "nbformat": 4,
 "nbformat_minor": 2
}
